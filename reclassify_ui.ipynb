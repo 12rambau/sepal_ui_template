{
 "cells": [
  {
   "cell_type": "code",
   "execution_count": null,
   "id": "cad2e8c7-7346-448e-894d-bd9905db1727",
   "metadata": {},
   "outputs": [],
   "source": [
    "from sepal_ui import reclassify as rec\n",
    "\n",
    "# create the tile\n",
    "reclassify_tile = rec.ReclassifyTile(gee=False)"
   ]
  },
  {
   "cell_type": "code",
   "execution_count": null,
   "id": "524c5817-bb7a-4374-925b-5d06925472d2",
   "metadata": {},
   "outputs": [],
   "source": [
    "reclassify_tile"
   ]
  },
  {
   "cell_type": "code",
   "execution_count": null,
   "id": "d139a6a2-0180-46dc-aee4-29f0bdc4247c",
   "metadata": {},
   "outputs": [],
   "source": []
  }
 ],
 "metadata": {
  "kernelspec": {
   "display_name": "Python 3",
   "language": "python",
   "name": "python3"
  },
  "language_info": {
   "codemirror_mode": {
    "name": "ipython",
    "version": 3
   },
   "file_extension": ".py",
   "mimetype": "text/x-python",
   "name": "python",
   "nbconvert_exporter": "python",
   "pygments_lexer": "ipython3",
   "version": "3.8.10"
  }
 },
 "nbformat": 4,
 "nbformat_minor": 5
}
