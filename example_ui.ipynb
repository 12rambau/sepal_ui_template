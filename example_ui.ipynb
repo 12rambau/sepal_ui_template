{
 "cells": [
  {
   "cell_type": "code",
   "execution_count": null,
   "id": "3d247eee-206b-4256-a5a9-7284b6487fa9",
   "metadata": {},
   "outputs": [],
   "source": [
    "from component import tile\n",
    "\n",
    "example_tile = tile.ExampleTile()"
   ]
  },
  {
   "cell_type": "code",
   "execution_count": null,
   "id": "4b7ab6d2-c2e2-4181-a812-5310a3e986c8",
   "metadata": {},
   "outputs": [],
   "source": [
    "example_tile"
   ]
  }
 ],
 "metadata": {
  "kernelspec": {
   "display_name": "Python 3",
   "language": "python",
   "name": "python3"
  },
  "language_info": {
   "codemirror_mode": {
    "name": "ipython",
    "version": 3
   },
   "file_extension": ".py",
   "mimetype": "text/x-python",
   "name": "python",
   "nbconvert_exporter": "python",
   "pygments_lexer": "ipython3",
   "version": "3.8.10"
  }
 },
 "nbformat": 4,
 "nbformat_minor": 5
}
