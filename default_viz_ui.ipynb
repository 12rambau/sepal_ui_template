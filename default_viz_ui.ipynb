{
 "cells": [
  {
   "cell_type": "code",
   "execution_count": null,
   "metadata": {},
   "outputs": [],
   "source": [
    "from component import model \n",
    "from component import tile"
   ]
  },
  {
   "cell_type": "code",
   "execution_count": null,
   "metadata": {},
   "outputs": [],
   "source": [
    "# for debugging purpose you may want to launch this tile without the complete framework \n",
    "# don't forget to fake the other io with test value \n",
    "# uncomment the two next line to fake an aoi_io \n",
    "#from sepal_ui import aoi\n",
    "#aoi_io = aoi.AoiModel(asset='users/bornToBeAlive/sepal_ui_test/corsica_template') # a default assetId can be directly set in the constructor "
   ]
  },
  {
   "cell_type": "code",
   "execution_count": null,
   "metadata": {},
   "outputs": [],
   "source": [
    "# define the io of your tile \n",
    "# it should be a mutable object that can be called in your tiles\n",
    "default_viz_model = model.DefaultVizModel()"
   ]
  },
  {
   "cell_type": "code",
   "execution_count": null,
   "metadata": {},
   "outputs": [],
   "source": [
    "# the result tile need to be created before the process tile \n",
    "# as it's a parameter of the processTile init function \n",
    "# be aware thatt you'll decide the display order of your tiles in the ui.ipynb notebook\n",
    "default_result_tile = tile.DefaultResultTile()"
   ]
  },
  {
   "cell_type": "code",
   "execution_count": null,
   "metadata": {},
   "outputs": [],
   "source": [
    "# create the process tile \n",
    "default_viz_tile = tile.DefaultVizTile(default_viz_model, aoi_tile.view.model, default_result_tile)"
   ]
  },
  {
   "cell_type": "code",
   "execution_count": null,
   "metadata": {},
   "outputs": [],
   "source": [
    "# this tile will only be displayed if this very notebook is launched\n",
    "# usefull for debugging\n",
    "default_viz_tile"
   ]
  },
  {
   "cell_type": "code",
   "execution_count": null,
   "metadata": {},
   "outputs": [],
   "source": [
    "# this tile will only be displayed if this very notebook is launched\n",
    "# usefull for debugging\n",
    "default_result_tile"
   ]
  },
  {
   "cell_type": "code",
   "execution_count": null,
   "metadata": {},
   "outputs": [],
   "source": [
    "# to debug the io you can display it's magic __dict__ function \n",
    "# this variable will only be displayed if this very notebook is launched\n",
    "# usefull for debugging\n",
    "#default_viz_model.__dict__"
   ]
  },
  {
   "cell_type": "code",
   "execution_count": null,
   "metadata": {},
   "outputs": [],
   "source": []
  }
 ],
 "metadata": {
  "kernelspec": {
   "display_name": "Python 3",
   "language": "python",
   "name": "python3"
  },
  "language_info": {
   "codemirror_mode": {
    "name": "ipython",
    "version": 3
   },
   "file_extension": ".py",
   "mimetype": "text/x-python",
   "name": "python",
   "nbconvert_exporter": "python",
   "pygments_lexer": "ipython3",
   "version": "3.6.9"
  }
 },
 "nbformat": 4,
 "nbformat_minor": 4
}
