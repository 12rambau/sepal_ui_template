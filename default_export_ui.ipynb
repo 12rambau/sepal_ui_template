{
 "cells": [
  {
   "cell_type": "code",
   "execution_count": null,
   "id": "9c1ae69a",
   "metadata": {},
   "outputs": [],
   "source": [
    "from component import io \n",
    "from component import tile"
   ]
  },
  {
   "cell_type": "code",
   "execution_count": null,
   "id": "e2dc9591",
   "metadata": {},
   "outputs": [],
   "source": [
    "# for debugging purpose you may want to launch this tile without the complete framework \n",
    "# don't forget to fake the other io with test value \n",
    "# uncomment the two next line to fake an aoi_io \n",
    "#from sepal_ui import aoi\n",
    "#import ee \n",
    "#ee.Initialize()\n",
    "#aoi_io = aoi.Aoi_io(default_asset='users/bornToBeAlive/sepal_ui_test/corsica_template') # a default assetId can be directly set in the constructor \n",
    "#default_viz_io = io.DefaultVizIo()\n",
    "#default_viz_io.dataset = ee.Image('UMD/hansen/global_forest_change_2015')"
   ]
  },
  {
   "cell_type": "code",
   "execution_count": null,
   "id": "a204c6fa",
   "metadata": {},
   "outputs": [],
   "source": [
    "# create the export tile \n",
    "default_export_tile = tile.DefaultExportTile(default_viz_io, aoi_io)"
   ]
  },
  {
   "cell_type": "code",
   "execution_count": null,
   "id": "bf1cc041",
   "metadata": {},
   "outputs": [],
   "source": [
    "# this tile will only be displayed if this very notebook is launched\n",
    "# usefull for debugging\n",
    "default_export_tile"
   ]
  },
  {
   "cell_type": "code",
   "execution_count": null,
   "id": "fb8e1bde",
   "metadata": {},
   "outputs": [],
   "source": []
  }
 ],
 "metadata": {
  "kernelspec": {
   "display_name": "Python 3",
   "language": "python",
   "name": "python3"
  },
  "language_info": {
   "codemirror_mode": {
    "name": "ipython",
    "version": 3
   },
   "file_extension": ".py",
   "mimetype": "text/x-python",
   "name": "python",
   "nbconvert_exporter": "python",
   "pygments_lexer": "ipython3",
   "version": "3.6.9"
  }
 },
 "nbformat": 4,
 "nbformat_minor": 5
}
