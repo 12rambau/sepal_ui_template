{
 "cells": [
  {
   "cell_type": "code",
   "execution_count": null,
   "metadata": {},
   "outputs": [],
   "source": [
    "from sepal_ui import sepalwidgets as sw\n",
    "from component.message import cm"
   ]
  },
  {
   "cell_type": "code",
   "execution_count": null,
   "metadata": {},
   "outputs": [],
   "source": [
    "# Create an appBar\n",
    "app_bar = sw.AppBar(cm.app.title, cm)"
   ]
  },
  {
   "cell_type": "code",
   "execution_count": null,
   "metadata": {},
   "outputs": [],
   "source": [
    "# Create a footer\n",
    "# the footer will be display in the bottom of the page\n",
    "# it's not a mandatory feature\n",
    "app_footer = sw.Footer(cm.app.footer.format(2020))"
   ]
  },
  {
   "cell_type": "code",
   "execution_count": null,
   "metadata": {},
   "outputs": [],
   "source": [
    "# load the patial files\n",
    "%run 'aoi_ui.ipynb'\n",
    "%run 'default_viz_ui.ipynb'\n",
    "%run 'default_export_ui.ipynb'\n",
    "%run 'about_ui.ipynb'\n",
    "\n",
    "# Gather all the partial tiles that you created previously\n",
    "app_content = [\n",
    "    aoi_tile,\n",
    "    default_viz_tile,\n",
    "    default_result_tile,\n",
    "    default_export_tile,\n",
    "    about_tile,\n",
    "    disclaimer_tile,\n",
    "]"
   ]
  },
  {
   "cell_type": "code",
   "execution_count": null,
   "metadata": {},
   "outputs": [],
   "source": [
    "# create a drawer for each group of tile\n",
    "# use the DrawerItem widget from sepalwidget (name_of_drawer, icon, the id of the widgets you want to display)\n",
    "# use the display_tile() method to link the times with the drawer items\n",
    "items = [\n",
    "    sw.DrawerItem(cm.app.drawer_item.aoi, \"fas fa-map\", card=\"aoi_tile\"),\n",
    "    sw.DrawerItem(\n",
    "        cm.app.drawer_item.default_process, \"fas fa-cogs\", card=\"default_viz_tile\"\n",
    "    ),\n",
    "    sw.DrawerItem(\n",
    "        cm.app.drawer_item.default_result,\n",
    "        \"fas fa-chart-bar\",\n",
    "        card=\"default_result_tile\",\n",
    "    ),\n",
    "    sw.DrawerItem(\n",
    "        cm.app.drawer_item.default_export,\n",
    "        \"fas fa-download-alt\",\n",
    "        card=\"default_export_tile\",\n",
    "    ),\n",
    "    sw.DrawerItem(\n",
    "        cm.app.drawer_item.about, \"fas fa-question-circle\", card=\"about_tile\"\n",
    "    ),\n",
    "]\n",
    "\n",
    "# !!! not mandatory !!!\n",
    "# Add the links to the code, wiki and issue tracker of your\n",
    "code_link = \"https://github.com/12rambau/sepal_ui_template\"\n",
    "wiki_link = \"https://github.com/12rambau/sepal_ui_template/blob/master/doc/en.rst\"\n",
    "issue_link = \"https://github.com/12rambau/sepal_ui_template/issues/new\"\n",
    "\n",
    "# Create the side drawer with all its components\n",
    "# The display_drawer() method link the drawer with the app bar\n",
    "app_drawer = sw.NavDrawer(items=items, code=code_link, wiki=wiki_link, issue=issue_link)"
   ]
  },
  {
   "cell_type": "code",
   "execution_count": null,
   "metadata": {},
   "outputs": [],
   "source": [
    "# build the Html final app by gathering everything\n",
    "app = sw.App(\n",
    "    tiles=app_content,\n",
    "    appBar=app_bar,\n",
    "    footer=app_footer,\n",
    "    navDrawer=app_drawer,\n",
    "    translator=cm,\n",
    ")"
   ]
  },
  {
   "cell_type": "code",
   "execution_count": null,
   "metadata": {},
   "outputs": [],
   "source": [
    "# display the app\n",
    "# this final cell will be the only one displaying something in this notebook\n",
    "# if you run all this notebook you may see elements displayed on the left side of your screen but it won't work\n",
    "# it can only be launched with voila as it's creating a full page javascript interface\n",
    "app.show_tile(\"aoi_tile\").add_banner(cm.app.banner)"
   ]
  },
  {
   "cell_type": "code",
   "execution_count": null,
   "metadata": {},
   "outputs": [],
   "source": []
  }
 ],
 "metadata": {
  "kernelspec": {
   "display_name": "Python 3",
   "language": "python",
   "name": "python3"
  },
  "language_info": {
   "codemirror_mode": {
    "name": "ipython",
    "version": 3
   },
   "file_extension": ".py",
   "mimetype": "text/x-python",
   "name": "python",
   "nbconvert_exporter": "python",
   "pygments_lexer": "ipython3",
   "version": "3.8.10"
  },
  "voila": {
   "theme": "dark"
  }
 },
 "nbformat": 4,
 "nbformat_minor": 4
}
